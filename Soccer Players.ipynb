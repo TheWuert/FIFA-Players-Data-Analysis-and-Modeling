{
 "cells": [
  {
   "cell_type": "markdown",
   "id": "3075cb4c",
   "metadata": {},
   "source": [
    "# Analyzing Soccer Data using MongoDB:"
   ]
  },
  {
   "cell_type": "code",
   "execution_count": 47,
   "id": "f185485d",
   "metadata": {},
   "outputs": [],
   "source": [
    "from pymongo import MongoClient"
   ]
  },
  {
   "cell_type": "code",
   "execution_count": 10,
   "id": "d12126f2",
   "metadata": {},
   "outputs": [],
   "source": [
    "client = MongoClient('mongodb://localhost:27017/')"
   ]
  },
  {
   "cell_type": "markdown",
   "id": "aee6070a",
   "metadata": {},
   "source": [
    "### Access the database and collection:"
   ]
  },
  {
   "cell_type": "code",
   "execution_count": 46,
   "id": "ad125d74",
   "metadata": {},
   "outputs": [],
   "source": [
    "db = client.soccer_db\n",
    "collection = db.soccer_players"
   ]
  },
  {
   "cell_type": "markdown",
   "id": "5061bfa1",
   "metadata": {},
   "source": [
    "### Query to find players with national_team \"Spain\": "
   ]
  },
  {
   "cell_type": "code",
   "execution_count": 24,
   "id": "c5239f06",
   "metadata": {},
   "outputs": [],
   "source": [
    "query = {\"national_team\": \"Spain\"}\n",
    "projection = {\"_id\": 0, \"name\": 1, \"nationality\": 1, \"overall_rating\": 1}"
   ]
  },
  {
   "cell_type": "code",
   "execution_count": 25,
   "id": "c25fdc71",
   "metadata": {},
   "outputs": [],
   "source": [
    "# Execute the query and limit to the first three records\n",
    "players = collection.find(query, projection).limit(3)"
   ]
  },
  {
   "cell_type": "code",
   "execution_count": 26,
   "id": "2286e87d",
   "metadata": {},
   "outputs": [
    {
     "name": "stdout",
     "output_type": "stream",
     "text": [
      "{'name': 'Sergio Busquets', 'nationality': 'Spain', 'overall_rating': 89}\n",
      "{'name': 'Jordi Alba', 'nationality': 'Spain', 'overall_rating': 87}\n",
      "{'name': 'Thiago', 'nationality': 'Spain', 'overall_rating': 87}\n"
     ]
    }
   ],
   "source": [
    "# Print the results\n",
    "for player in players:\n",
    "    print(player)"
   ]
  },
  {
   "cell_type": "code",
   "execution_count": 7,
   "id": "a846553e",
   "metadata": {},
   "outputs": [],
   "source": [
    "# Query to find all players and project specific fields\n",
    "projection = {\"_id\": 0, \"name\": 1, \"nationality\": 1, \"overall_rating\": 1}\n",
    "\n",
    "# Execute the query and limit to the first three records\n",
    "players = collection.find({}, projection).limit(3)\n",
    "\n",
    "# Print the results\n",
    "for player in players:\n",
    "    print(player)"
   ]
  },
  {
   "cell_type": "markdown",
   "id": "a4e0fddd",
   "metadata": {},
   "source": [
    "### Find Players by Specific Position\n",
    "Retrieve players who play in a specific position, such as \"GK\" (Goal Keeper)."
   ]
  },
  {
   "cell_type": "code",
   "execution_count": 29,
   "id": "d823c692",
   "metadata": {},
   "outputs": [
    {
     "name": "stdout",
     "output_type": "stream",
     "text": [
      "{'name': 'M. Neuer', 'nationality': 'Germany', 'overall_rating': 89}\n",
      "{'name': 'T. Courtois', 'nationality': 'Belgium', 'overall_rating': 89}\n",
      "{'name': 'M. ter Stegen', 'nationality': 'Germany', 'overall_rating': 89}\n",
      "{'name': 'K. Navas', 'nationality': 'Costa Rica', 'overall_rating': 87}\n",
      "{'name': 'Kepa', 'nationality': 'Spain', 'overall_rating': 84}\n"
     ]
    }
   ],
   "source": [
    "query = {\"positions\": \"GK\"}\n",
    "players = collection.find(query, projection).limit(5)  # Limit to the first 5 players\n",
    "for player in players:\n",
    "    print(player)"
   ]
  },
  {
   "cell_type": "markdown",
   "id": "685a7231",
   "metadata": {},
   "source": [
    "### Find Players with an Overall Rating above a Certain Threshold\n",
    "- Retrieve players with an overall rating greater than or equal to 90."
   ]
  },
  {
   "cell_type": "code",
   "execution_count": 28,
   "id": "b1c906d6",
   "metadata": {},
   "outputs": [
    {
     "name": "stdout",
     "output_type": "stream",
     "text": [
      "{'name': 'L. Messi', 'nationality': 'Argentina', 'overall_rating': 94}\n",
      "{'name': 'G. Chiellini', 'nationality': 'Italy', 'overall_rating': 90}\n",
      "{'name': 'Sergio Ramos', 'nationality': 'Spain', 'overall_rating': 90}\n",
      "{'name': 'David Silva', 'nationality': 'Spain', 'overall_rating': 90}\n",
      "{'name': 'D. Godín', 'nationality': 'Uruguay', 'overall_rating': 90}\n"
     ]
    }
   ],
   "source": [
    "query = {\"overall_rating\": {\"$gte\": 90}}\n",
    "players = collection.find(query, projection).limit(5)  # Limit to the first 5 players\n",
    "for player in players:\n",
    "    print(player)"
   ]
  },
  {
   "cell_type": "markdown",
   "id": "13f52ef6",
   "metadata": {},
   "source": [
    "### Find Players from a Specific Nationality\n",
    "- Retrieve players whose nationality is \"Germany\"."
   ]
  },
  {
   "cell_type": "code",
   "execution_count": 30,
   "id": "6f37e13c",
   "metadata": {},
   "outputs": [
    {
     "name": "stdout",
     "output_type": "stream",
     "text": [
      "{'name': 'M. Neuer', 'nationality': 'Germany', 'overall_rating': 89}\n",
      "{'name': 'M. ter Stegen', 'nationality': 'Germany', 'overall_rating': 89}\n",
      "{'name': 'T. Werner', 'nationality': 'Germany', 'overall_rating': 84}\n",
      "{'name': 'N. Süle', 'nationality': 'Germany', 'overall_rating': 84}\n",
      "{'name': 'S. Gnabry', 'nationality': 'Germany', 'overall_rating': 83}\n"
     ]
    }
   ],
   "source": [
    "query = {\"nationality\": \"Germany\"}\n",
    "players = collection.find(query, projection).limit(5)  # Limit to the first 5 players\n",
    "for player in players:\n",
    "    print(player)"
   ]
  },
  {
   "cell_type": "markdown",
   "id": "78a285ba",
   "metadata": {},
   "source": [
    "### Find Players with a High Skill Moves Rating\n",
    "- Retrieve players with a skill moves rating of 5."
   ]
  },
  {
   "cell_type": "code",
   "execution_count": 14,
   "id": "7a37d0fb",
   "metadata": {},
   "outputs": [
    {
     "name": "stdout",
     "output_type": "stream",
     "text": [
      "{'name': 'P. Pogba', 'nationality': 'France', 'overall_rating': 88}\n",
      "{'name': 'K. Mbappé', 'nationality': 'France', 'overall_rating': 88}\n",
      "{'name': 'Marcelo', 'nationality': 'Brazil', 'overall_rating': 87}\n",
      "{'name': 'Thiago', 'nationality': 'Spain', 'overall_rating': 87}\n",
      "{'name': 'Z. Ibrahimović', 'nationality': 'Sweden', 'overall_rating': 85}\n"
     ]
    }
   ],
   "source": [
    "query = {\"skill_moves(1-5)\": 5}\n",
    "players = collection.find(query, projection).limit(5)  # Limit to the first 5 players\n",
    "for player in players:\n",
    "    print(player)"
   ]
  },
  {
   "cell_type": "markdown",
   "id": "d92ad5ee",
   "metadata": {},
   "source": [
    "**Retrieve players who are younger than 25 years old.**"
   ]
  },
  {
   "cell_type": "code",
   "execution_count": 45,
   "id": "5ea0f505",
   "metadata": {},
   "outputs": [
    {
     "name": "stdout",
     "output_type": "stream",
     "text": [
      "{'name': 'K. Mbappé', 'nationality': 'France', 'overall_rating': 88, 'acceleration': 96}\n",
      "{'name': 'M. Škriniar', 'nationality': 'Slovakia', 'overall_rating': 86, 'acceleration': 70}\n",
      "{'name': 'Kepa', 'nationality': 'Spain', 'overall_rating': 84, 'acceleration': 34}\n",
      "{'name': 'A. Martial', 'nationality': 'France', 'overall_rating': 84, 'acceleration': 88}\n",
      "{'name': 'T. Werner', 'nationality': 'Germany', 'overall_rating': 84, 'acceleration': 93}\n"
     ]
    }
   ],
   "source": [
    "query = {\"age\": {\"$lt\": 25}}\n",
    "players = collection.find(query, projection).limit(5)  # Limit to the first 5 players\n",
    "for player in players:\n",
    "    print(player)"
   ]
  },
  {
   "cell_type": "markdown",
   "id": "dad82eca",
   "metadata": {},
   "source": [
    "**Retrieve all players sorted by their overall rating in descending order.**"
   ]
  },
  {
   "cell_type": "code",
   "execution_count": 19,
   "id": "8120fbb2",
   "metadata": {},
   "outputs": [
    {
     "name": "stdout",
     "output_type": "stream",
     "text": [
      "{'name': 'L. Messi', 'nationality': 'Argentina', 'overall_rating': 94}\n",
      "{'name': 'Cristiano Ronaldo', 'nationality': 'Portugal', 'overall_rating': 94}\n",
      "{'name': 'Neymar Jr', 'nationality': 'Brazil', 'overall_rating': 92}\n",
      "{'name': 'K. De Bruyne', 'nationality': 'Belgium', 'overall_rating': 91}\n",
      "{'name': 'E. Hazard', 'nationality': 'Belgium', 'overall_rating': 91}\n"
     ]
    }
   ],
   "source": [
    "players = collection.find({}, projection).sort(\"overall_rating\", -1).limit(5)  # Limit to the first 5 players\n",
    "for player in players:\n",
    "    print(player)"
   ]
  },
  {
   "cell_type": "markdown",
   "id": "ca072c93",
   "metadata": {},
   "source": [
    "**Retrieve players who have \"Right\" as their preferred foot.**"
   ]
  },
  {
   "cell_type": "code",
   "execution_count": 31,
   "id": "95731b44",
   "metadata": {},
   "outputs": [
    {
     "name": "stdout",
     "output_type": "stream",
     "text": [
      "{'name': 'C. Eriksen', 'nationality': 'Denmark', 'overall_rating': 88}\n",
      "{'name': 'P. Pogba', 'nationality': 'France', 'overall_rating': 88}\n",
      "{'name': 'L. Insigne', 'nationality': 'Italy', 'overall_rating': 88}\n",
      "{'name': 'K. Koulibaly', 'nationality': 'Senegal', 'overall_rating': 88}\n",
      "{'name': 'V. van Dijk', 'nationality': 'Netherlands', 'overall_rating': 88}\n"
     ]
    }
   ],
   "source": [
    "query = {\"preferred_foot\": \"Right\"}\n",
    "players = collection.find(query, projection).limit(5)  # Limit to the first 5 players\n",
    "for player in players:\n",
    "    print(player)"
   ]
  },
  {
   "cell_type": "markdown",
   "id": "f85c6e3a",
   "metadata": {},
   "source": [
    "**Retrieve players with a skill moves of 4.**"
   ]
  },
  {
   "cell_type": "code",
   "execution_count": 41,
   "id": "23ba34fe",
   "metadata": {},
   "outputs": [
    {
     "name": "stdout",
     "output_type": "stream",
     "text": [
      "{'name': 'L. Messi', 'weight_kgs': 72.1, 'nationality': 'Argentina', 'overall_rating': 94}\n",
      "{'name': 'C. Eriksen', 'weight_kgs': 76.2, 'nationality': 'Denmark', 'overall_rating': 88}\n",
      "{'name': 'L. Insigne', 'weight_kgs': 59, 'nationality': 'Italy', 'overall_rating': 88}\n",
      "{'name': 'S. Agüero', 'weight_kgs': 69.9, 'nationality': 'Argentina', 'overall_rating': 89}\n",
      "{'name': 'A. Griezmann', 'weight_kgs': 73, 'nationality': 'France', 'overall_rating': 89}\n"
     ]
    }
   ],
   "source": [
    "query = {\"skill_moves(1-5)\": 4}\n",
    "players = collection.find(query, projection).limit(5)  # Limit to the first 5 players\n",
    "for player in players:\n",
    "    print(player)"
   ]
  },
  {
   "cell_type": "markdown",
   "id": "45633b15",
   "metadata": {},
   "source": [
    "**Retrieve players who shot power is more than 90.**"
   ]
  },
  {
   "cell_type": "code",
   "execution_count": 37,
   "id": "27cdd010",
   "metadata": {},
   "outputs": [
    {
     "name": "stdout",
     "output_type": "stream",
     "text": [
      "{'name': 'F. Guarín', 'nationality': 'Colombia', 'overall_rating': 75}\n",
      "{'name': 'L. Podolski', 'nationality': 'Germany', 'overall_rating': 77}\n",
      "{'name': 'Hulk', 'nationality': 'Brazil', 'overall_rating': 81}\n",
      "{'name': 'A. Kolarov', 'nationality': 'Serbia', 'overall_rating': 83}\n",
      "{'name': 'Naldo', 'nationality': 'Brazil', 'overall_rating': 84}\n"
     ]
    }
   ],
   "source": [
    "query = {\"shot_power\": {\"$gt\": 90}}\n",
    "players = collection.find(query, projection).limit(5)  # Limit to the first 5 players\n",
    "for player in players:\n",
    "    print(player)"
   ]
  },
  {
   "cell_type": "markdown",
   "id": "07b5efc1",
   "metadata": {},
   "source": [
    "**Retrieve players who weigh less than 70 kg.**"
   ]
  },
  {
   "cell_type": "code",
   "execution_count": 24,
   "id": "8c17f483",
   "metadata": {},
   "outputs": [
    {
     "name": "stdout",
     "output_type": "stream",
     "text": [
      "{'name': 'L. Insigne', 'nationality': 'Italy', 'overall_rating': 88}\n",
      "{'name': 'S. Agüero', 'nationality': 'Argentina', 'overall_rating': 89}\n",
      "{'name': 'Fernandinho', 'nationality': 'Brazil', 'overall_rating': 87}\n",
      "{'name': 'D. Mertens', 'nationality': 'Belgium', 'overall_rating': 87}\n",
      "{'name': 'Jordi Alba', 'nationality': 'Spain', 'overall_rating': 87}\n"
     ]
    }
   ],
   "source": [
    "query = {\"weight_kgs\": {\"$lt\": 70}}\n",
    "players = collection.find(query, projection).limit(5)  # Limit to the first 5 players\n",
    "for player in players:\n",
    "    print(player)"
   ]
  },
  {
   "cell_type": "markdown",
   "id": "3b9ad1cb",
   "metadata": {},
   "source": [
    "**Retrieve players who accerleration is greater the 90 and are from France:**"
   ]
  },
  {
   "cell_type": "code",
   "execution_count": 44,
   "id": "88568c5b",
   "metadata": {},
   "outputs": [
    {
     "name": "stdout",
     "output_type": "stream",
     "text": [
      "{'name': 'K. Mbappé', 'nationality': 'France', 'overall_rating': 88, 'acceleration': 96}\n",
      "{'name': 'O. Dembélé', 'nationality': 'France', 'overall_rating': 84, 'acceleration': 94}\n",
      "{'name': 'K. Coman', 'nationality': 'France', 'overall_rating': 83, 'acceleration': 95}\n",
      "{'name': 'J. Biabiany', 'nationality': 'France', 'overall_rating': 74, 'acceleration': 95}\n",
      "{'name': 'J. Bela', 'nationality': 'France', 'overall_rating': 71, 'acceleration': 92}\n",
      "{'name': 'R. Muhammed', 'nationality': 'France', 'overall_rating': 61, 'acceleration': 93}\n",
      "{'name': 'M. Sao', 'nationality': 'France', 'overall_rating': 67, 'acceleration': 91}\n",
      "{'name': 'A. Kalulu', 'nationality': 'France', 'overall_rating': 69, 'acceleration': 93}\n",
      "{'name': 'J. Cabot', 'nationality': 'France', 'overall_rating': 72, 'acceleration': 92}\n",
      "{'name': 'A. Saint-Maximin', 'nationality': 'France', 'overall_rating': 79, 'acceleration': 93}\n"
     ]
    }
   ],
   "source": [
    "# Query to find players who accerleration is greater the 90 and are from France\n",
    "query = {\n",
    "    \"acceleration\": {\"$gt\": 90},\n",
    "    \"nationality\": \"France\"\n",
    "}\n",
    "projection = {\"_id\": 0, \"name\": 1, \"nationality\": 1, \"overall_rating\": 1, \"acceleration\": 1}\n",
    "\n",
    "# Execute the query\n",
    "players = collection.find(query, projection)\n",
    "\n",
    "# Print the results\n",
    "for player in players:\n",
    "    print(player)"
   ]
  },
  {
   "cell_type": "code",
   "execution_count": null,
   "id": "d0fcbb29",
   "metadata": {},
   "outputs": [],
   "source": []
  }
 ],
 "metadata": {
  "kernelspec": {
   "display_name": "Python 3 (ipykernel)",
   "language": "python",
   "name": "python3"
  },
  "language_info": {
   "codemirror_mode": {
    "name": "ipython",
    "version": 3
   },
   "file_extension": ".py",
   "mimetype": "text/x-python",
   "name": "python",
   "nbconvert_exporter": "python",
   "pygments_lexer": "ipython3",
   "version": "3.11.7"
  }
 },
 "nbformat": 4,
 "nbformat_minor": 5
}
